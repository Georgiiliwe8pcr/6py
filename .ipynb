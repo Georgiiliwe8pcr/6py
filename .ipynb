import numpy as np
from sklearn.linear_model import LinearRegression

# Функція гіпотези лінійної регресії у векторному вигляді
def hypothesis(X, w):
    return X @ w

# Функція втрат (середньоквадратична похибка) у векторному вигляді
def loss_function(X, y, w):
    m = len(y)
    predictions = hypothesis(X, w)
    return (1 / (2 * m)) * np.sum((predictions - y) ** 2)

# Один крок градієнтного спуску
def gradient_descent_step(X, y, w, learning_rate):
    m = len(y)
    predictions = hypothesis(X, w)
    gradients = (1 / m) * (X.T @ (predictions - y))
    w = w - learning_rate * gradients
    return w

# Знаходження параметрів методом градієнтного спуску
def gradient_descent(X, y, learning_rate=0.01, iterations=1000):
    w = np.zeros(X.shape[1])  # Ініціалізація ваг
    for _ in range(iterations):
        w = gradient_descent_step(X, y, w, learning_rate)
    return w

# Аналітичне рішення (нормальне рівняння)
def analytical_solution(X, y):
    return np.linalg.pinv(X.T @ X) @ X.T @ y

# Приклад: прогноз ціни на будинок
# Дані: площа (м2), кількість ванних кімнат, кількість спалень
X = np.array([[70, 1, 2],
              [80, 2, 3],
              [120, 2, 4],
              [150, 3, 5]])
y = np.array([200, 250, 400, 500])  # ціна (у тис. доларів)

# Додаємо стовпець одиниць для врахування вільного члена
X = np.hstack((np.ones((X.shape[0], 1)), X))

# Знаходимо параметри за допомогою градієнтного спуску
w_gradient = gradient_descent(X, y, learning_rate=0.01, iterations=1000)
print("Параметри (градієнтний спуск):", w_gradient)

# Знаходимо параметри аналітичним методом
w_analytical = analytical_solution(X, y)
print("Параметри (аналітичне рішення):", w_analytical)

# Перевірка з використанням LinearRegression з бібліотеки scikit-learn
model = LinearRegression()
model.fit(X[:, 1:], y)  # Виключаємо стовпець одиниць
print("Параметри (sklearn):", [model.intercept_, *model.coef_])

# Прогноз для тестових даних
X_test = np.array([[100, 2, 3]])
X_test = np.hstack((np.ones((X_test.shape[0], 1)), X_test))

predictions_gradient = hypothesis(X_test, w_gradient)
predictions_analytical = hypothesis(X_test, w_analytical)
predictions_sklearn = model.predict(X_test[:, 1:])

print("Прогноз (градієнтний спуск):", predictions_gradient)
print("Прогноз (аналітичне рішення):", predictions_analytical)
print("Прогноз (sklearn):", predictions_sklearn)
